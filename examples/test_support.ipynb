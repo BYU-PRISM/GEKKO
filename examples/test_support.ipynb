{
 "cells": [
  {
   "cell_type": "markdown",
   "id": "98f42488",
   "metadata": {},
   "source": [
    "### Support Module in Gekko\n",
    "\n",
    "Gekko support communicates with Chatbot server, sending questions and receiving answers while maintaining a context of past Q+A pairs. It maintains a list of Q+A pairs and a limit on the questions to remember, defined by `context_size`. This limit can be adjusted to improve speed of response and avoid server timeouts."
   ]
  },
  {
   "cell_type": "code",
   "execution_count": null,
   "id": "80c141d2",
   "metadata": {},
   "outputs": [],
   "source": [
    "from gekko import support\n",
    "a = support.agent(context_size=3)"
   ]
  },
  {
   "cell_type": "code",
   "execution_count": null,
   "id": "249abf95",
   "metadata": {},
   "outputs": [],
   "source": [
    "a.ask(\"Optimize the Rosenbrock function\")"
   ]
  },
  {
   "cell_type": "code",
   "execution_count": null,
   "id": "32e579d6",
   "metadata": {
    "scrolled": false
   },
   "outputs": [],
   "source": [
    "a.ask(\"Add an additional equation to the Rosenbrock function.\")"
   ]
  },
  {
   "cell_type": "code",
   "execution_count": null,
   "id": "19f2a078",
   "metadata": {
    "scrolled": false
   },
   "outputs": [],
   "source": [
    "a.history()"
   ]
  }
 ],
 "metadata": {
  "kernelspec": {
   "display_name": "Python 3 (ipykernel)",
   "language": "python",
   "name": "python3"
  },
  "language_info": {
   "codemirror_mode": {
    "name": "ipython",
    "version": 3
   },
   "file_extension": ".py",
   "mimetype": "text/x-python",
   "name": "python",
   "nbconvert_exporter": "python",
   "pygments_lexer": "ipython3",
   "version": "3.11.4"
  }
 },
 "nbformat": 4,
 "nbformat_minor": 5
}
