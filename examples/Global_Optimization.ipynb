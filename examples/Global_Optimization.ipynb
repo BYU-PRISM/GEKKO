{
 "cells": [
  {
   "attachments": {},
   "cell_type": "markdown",
   "id": "83d33c3e",
   "metadata": {},
   "source": [
    "## Global Optimization\n",
    "\n",
    "[Global Optimization](https://apmonitor.com/me575/index.php/Main/GlobalOptimization) in the [Design Optimization for Engineers](http://apmonitor.com/me575) online course.\n",
    "\n",
    "The selection of solver parameters or initial guesses can be determined by another optimization algorithm to search in amoung categorical or continuous parameters. These solver parameters are called hyperparameters in Machine Learning. This tutorial is an introduction to hyperparameter optimization and the application for global optimization. A simple test optimization case with two local minima demonstrates the approach.\n",
    "\n",
    "<img align=left width=500px src='https://apmonitor.com/me575/uploads/Main/global_optimization.png'>"
   ]
  },
  {
   "cell_type": "markdown",
   "id": "189c5d39",
   "metadata": {},
   "source": [
    "Examples of optimizer hyperparameters include initial guesses and solver options. The best values for these solver options and initial guesses are determined through a process called hyperparameter search to find the best combination of values. The objective may be to minimize the number of solver iterations or find a global solution."
   ]
  },
  {
   "cell_type": "markdown",
   "id": "c7021549",
   "metadata": {},
   "source": [
    "### Hyperparameter Search Methods\n",
    "\n",
    "There are several [common methods for hyperparameter optimization](https://medium.com/criteo-engineering/hyper-parameter-optimization-algorithms-2fe447525903), each with its own strengths and weaknesses:\n",
    "\n",
    "1️⃣ Grid search: A technique where a set of possible values for each hyperparameter is specified, and the algorithm will train and evaluate a model for each combination of hyperparameter values. Grid search can be computationally expensive, particularly when searching over many hyperparameters or a large range of values for each hyperparameter.\n",
    "\n",
    "2️⃣ Random search: A technique where a random set of hyperparameter values is sampled from a predefined distribution for each hyperparameter. Random search is less computationally expensive than grid search, but still has a higher chance of finding a good set of hyperparameters than a simple grid search.\n",
    "\n",
    "3️⃣ Bayesian optimization: A probabilistic model-based approach that uses Bayesian inference to model the function that maps the hyperparameters to the performance of the model. It uses the acquired knowledge to direct the search to the regions where it expects to find the best performance. Bayesian optimization cannot be parallelized and requires continuous hyperparameters (not categorical). It quickly converges to an optimal solution when there are few hyperparameters, but this efficiency degrades when the search dimension increases.\n",
    "\n",
    "4️⃣ Genetic Algorithm: A evolutionary based algorithm that uses concepts of natural selection and genetics to optimize the parameters.\n",
    "\n",
    "5️⃣ Gradient-based optimization: A method that uses gradient information to optimize the hyperparameters. This can be done using optimization algorithms such as gradient descent or Adam.\n",
    "\n",
    "6️⃣ Hyperband: An algorithm that uses the idea of early stopping to decide when to stop training a model, which reduces the number of models that need to be trained and evaluated, making it faster than grid search or random search.\n",
    "\n",
    "Which method to use depends on the problem, the complexity of the model, the computational resources available, and the desired trade-off between computation time and optimization quality.\n",
    "\n",
    "### Global Optimization\n",
    " \n",
    "**Objective**: An optimization example has 2 local minima at (0,0,8) with objective 936.0 and (7,0,0) with objective 951.0. Use gekko and a multi-start method to find the global solution.\n",
    "\n",
    "$\\begin{align}\\mathrm{minimize} \\quad & 100-x_1^2-2x_2^2-x_3^2-x_1x_2-x_1x_3 \\\\ \\mathrm{subject\\;to}\\quad & 8x_1+14x_2+7x_3=56 \\\\ & x_1^2+x_2^2+x_3^2\\geq25 \\\\ & x_1,x_2,x_3\\ge0 \\end{align}$\n",
    "\n",
    "**Python GEKKO Local Solution**\n",
    "\n",
    "The following script produces the local (not global) solution of (7,0,0) with objective 951.0."
   ]
  },
  {
   "cell_type": "code",
   "execution_count": null,
   "id": "c6b14c74",
   "metadata": {},
   "outputs": [],
   "source": [
    "from gekko import GEKKO\n",
    "m = GEKKO(remote=False)\n",
    "x = m.Array(m.Var,3,lb=0)\n",
    "x1,x2,x3 = x\n",
    "m.Minimize(1000-x1**2-2*x2**2-x3**2-x1*x2-x1*x3)\n",
    "m.Equations([8*x1+14*x2+7*x3==56,\n",
    "             x1**2+x2**2+x3**2>=25])\n",
    "m.solve(disp=False)\n",
    "res=[print(f'x{i+1}: {xi.value[0]}') for i,xi in enumerate(x)]\n",
    "print(f'Objective: {m.options.objfcnval:.2f}')"
   ]
  },
  {
   "cell_type": "markdown",
   "id": "1e3ef50c",
   "metadata": {},
   "source": [
    "#### Multi-Start with Parallel Threading\n",
    "\n",
    "This solution demonstrates the use of the ''threading'' module to perform a multi-start method with different initial conditions over a grid search. Multi-threading in Python is the ability of the interpreter to execute multiple threads (functions of a program) concurrently, in the same process as the main program. This allows for parallel execution of code, to improve the performance by utilizing multiple CPU cores or executing tasks simultaneously. The Python ''threading'' module creates and manages threads. A thread is created by instantiating an instance of the Thread class and then starting the thread using the ''start()'' method."
   ]
  },
  {
   "cell_type": "code",
   "execution_count": null,
   "id": "30257041",
   "metadata": {},
   "outputs": [],
   "source": [
    "import numpy as np\n",
    "import threading\n",
    "import time, random\n",
    "from gekko import GEKKO\n",
    "\n",
    "class ThreadClass(threading.Thread):\n",
    "    def __init__(self, id, xg):\n",
    "        s = self\n",
    "        s.id = id\n",
    "        s.m = GEKKO(remote=False)\n",
    "        s.xg = xg\n",
    "        s.objective = float('NaN')\n",
    "\n",
    "        # initialize variables\n",
    "        s.m.x = s.m.Array(s.m.Var,3,lb=0)\n",
    "        for i in range(3):\n",
    "            s.m.x[i].value = xg[i]\n",
    "        s.m.x1,s.m.x2,s.m.x3 = s.m.x\n",
    "\n",
    "        # Equations\n",
    "        s.m.Equation(8*s.m.x1+14*s.m.x2+7*s.m.x3==56)\n",
    "        s.m.Equation(s.m.x1**2+s.m.x2**2+s.m.x3**2>=25)\n",
    "\n",
    "        # Objective\n",
    "        s.m.Minimize(1000-s.m.x1**2-2*s.m.x2**2-s.m.x3**2\n",
    "                     -s.m.x1*s.m.x2-s.m.x1*s.m.x3)\n",
    "\n",
    "        # Set solver option\n",
    "        s.m.options.SOLVER = 1\n",
    "\n",
    "        threading.Thread.__init__(s)\n",
    "\n",
    "    def run(self):\n",
    "        print('Running application ' + str(self.id) + '\\n')\n",
    "        self.m.solve(disp=False,debug=0) # solve\n",
    "        # Retrieve objective if successful\n",
    "        if (self.m.options.APPSTATUS==1):\n",
    "            self.objective = self.m.options.objfcnval\n",
    "        else:\n",
    "            self.objective = float('NaN')\n",
    "        self.m.cleanup()\n",
    "\n",
    "# Optimize at mesh points\n",
    "x1_ = np.arange(0.0, 10.0, 3.0)\n",
    "x2_ = np.arange(0.0, 10.0, 3.0)\n",
    "x3_ = np.arange(0.0, 10.0, 3.0)\n",
    "x1,x2,x3 = np.meshgrid(x1_,x2_,x3_)\n",
    "\n",
    "threads = [] # Array of threads\n",
    "\n",
    "# Load applications\n",
    "id = 0\n",
    "for i in range(x1.shape[0]):\n",
    "    for j in range(x1.shape[1]):\n",
    "        for k in range(x1.shape[2]):\n",
    "            xg = (x1[i,j,k],x2[i,j,k],x3[i,j,k])\n",
    "            # Create new thread\n",
    "            threads.append(ThreadClass(id, xg))\n",
    "            # Increment ID\n",
    "            id += 1\n",
    "\n",
    "# Run applications simultaneously as multiple threads\n",
    "# Max number of threads to run at once\n",
    "max_threads = 8\n",
    "for t in threads:\n",
    "    while (threading.activeCount()>max_threads):\n",
    "        # check for additional threads every 0.01 sec\n",
    "        time.sleep(0.01)\n",
    "    # start the thread\n",
    "    t.start()\n",
    "\n",
    "# Check for completion\n",
    "mt = 10.0 # max time (sec)\n",
    "it = 0.0  # time counter\n",
    "st = 1.0  # sleep time (sec)\n",
    "while (threading.active_count()>=3):\n",
    "    time.sleep(st)\n",
    "    it = it + st\n",
    "    print('Active Threads: ' + str(threading.active_count()))\n",
    "    # Terminate after max time\n",
    "    if (it>=mt):\n",
    "        break\n",
    "\n",
    "# Initialize array for objective\n",
    "obj = np.empty_like(x1)\n",
    "\n",
    "# Retrieve objective results\n",
    "id = 0\n",
    "id_best = 0; obj_best = 1e10\n",
    "for i in range(x1.shape[0]):\n",
    "    for j in range(x1.shape[1]):\n",
    "        for k in range(x1.shape[2]):\n",
    "            obj[i,j,k] = threads[id].objective\n",
    "            if obj[i,j,k]<obj_best:\n",
    "                id_best = id\n",
    "                obj_best = obj[i,j,k]\n",
    "            id += 1"
   ]
  },
  {
   "cell_type": "code",
   "execution_count": null,
   "id": "ae86a217",
   "metadata": {},
   "outputs": [],
   "source": [
    "# all solutions\n",
    "print(obj)"
   ]
  },
  {
   "cell_type": "code",
   "execution_count": null,
   "id": "b212e2a0",
   "metadata": {},
   "outputs": [],
   "source": [
    "print(f'Best objective {obj_best}')\n",
    "print(f'Solution {threads[id_best].m.x}')"
   ]
  },
  {
   "cell_type": "markdown",
   "id": "e5dfec75",
   "metadata": {},
   "source": [
    "#### Global Optimization with Hyperopt"
   ]
  },
  {
   "cell_type": "markdown",
   "id": "81e6e14e",
   "metadata": {},
   "source": [
    "Grid search can be computationally expensive, particularly when searching over many hyperparameters or a large range of values for each hyperparameter. An alternative strategy is to use `hyperopt` to search for a global solution with gekko in the `fmin` function to find local evaluations with a multi-start method. `hyperopt` is a Python package for performing hyperparameter optimization with a variety of optimization algorithms including random search, Tree-structured Parzen Estimator (TPE), and adaptive TPE, as well as a simple and flexible way to define the search space for the hyperparameters. The main function of the package is `fmin` that is used to perform the optimization. The function `fmin` takes an objective function, the search space, the optimization algorithm, and the maximum number of evaluations as input. The objective function takes the hyperparameters as input and returns a dictionary with the loss (or negative of the performance metric) and the status of the optimization. In addition to the `fmin` function, `hyperopt` also provides a number of helper functions for defining the search space.\n",
    "\n",
    "* `hp.quniform` and `hp.qloguniform` for continuous variables\n",
    "* `hp.choice` for categorical variables\n",
    "* `hp.randint` for integers\n",
    "\n",
    "`hyperopt` provides a built-in support for parallel execution and early stopping. It can be used in combination with most machine learning libraries, such as scikit-learn, TensorFlow, and PyTorch. It is a popular choice among data scientists and researchers for the ease of use and ability to find better solutions in a relatively small number of evaluations."
   ]
  },
  {
   "cell_type": "code",
   "execution_count": null,
   "id": "a26b5a92",
   "metadata": {},
   "outputs": [],
   "source": [
    "from gekko import GEKKO\n",
    "from hyperopt import fmin, tpe, hp\n",
    "from hyperopt import STATUS_OK, STATUS_FAIL\n",
    "\n",
    "# Define the search space for the hyperparameters\n",
    "space = {'x1': hp.quniform('x1', 0, 10, 3),\n",
    "         'x2': hp.quniform('x2', 0, 10, 3),\n",
    "         'x3': hp.quniform('x3', 0, 10, 3)}\n",
    "\n",
    "def objective(params):\n",
    "    m = GEKKO(remote=False)\n",
    "    x = m.Array(m.Var,3,lb=0)\n",
    "    x1,x2,x3 = x\n",
    "    x1.value = params['x1']\n",
    "    x2.value = params['x2']\n",
    "    x3.value = params['x3']\n",
    "    m.Minimize(1000-x1**2-2*x2**2-x3**2-x1*x2-x1*x3)\n",
    "    m.Equations([8*x1+14*x2+7*x3==56,\n",
    "                 x1**2+x2**2+x3**2>=25])\n",
    "    m.options.SOLVER = 1\n",
    "    m.solve(disp=False,debug=False)\n",
    "    obj = m.options.objfcnval\n",
    "    if m.options.APPSTATUS==1:\n",
    "        s=STATUS_OK\n",
    "    else:\n",
    "        s=STATUS_FAIL\n",
    "    m.cleanup()\n",
    "    return {'loss':obj, 'status': s, 'x':x}\n",
    "\n",
    "best = fmin(objective, space, algo=tpe.suggest, max_evals=50)"
   ]
  },
  {
   "cell_type": "code",
   "execution_count": null,
   "id": "42c267f4",
   "metadata": {},
   "outputs": [],
   "source": [
    "print(best)"
   ]
  },
  {
   "cell_type": "code",
   "execution_count": null,
   "id": "f3fc228a",
   "metadata": {},
   "outputs": [],
   "source": [
    "sol = objective(best)\n",
    "print(f\"Solution Status: {sol['status']}\")\n",
    "print(f\"Objective: {sol['loss']:.2f}\")\n",
    "print(f\"Solution: {sol['x']}\")"
   ]
  }
 ],
 "metadata": {
  "kernelspec": {
   "display_name": "Python 3 (ipykernel)",
   "language": "python",
   "name": "python3"
  },
  "language_info": {
   "codemirror_mode": {
    "name": "ipython",
    "version": 3
   },
   "file_extension": ".py",
   "mimetype": "text/x-python",
   "name": "python",
   "nbconvert_exporter": "python",
   "pygments_lexer": "ipython3",
   "version": "3.9.13"
  }
 },
 "nbformat": 4,
 "nbformat_minor": 5
}
