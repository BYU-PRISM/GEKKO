{
 "cells": [
  {
   "cell_type": "markdown",
   "id": "83d33c3e",
   "metadata": {},
   "source": [
    "## Introduction to Engineering Optimization\n",
    "\n",
    "[Optimization Introduction](https://apmonitor.com/me575/index.php/Main/PythonOptimization) in the [Engineering Optimization](http://apmonitor.com/me575) online course.\n",
    "\n",
    "Engineering optimization platforms in Python are an important tool for engineers in the modern world. They allow engineers to quickly and easily optimize complex engineering problems and tasks, such as design optimization, resource allocation, and route planning. This notebook has examples for solving LP, QP, NLP, MILP, and MINLP problems in Python.\n",
    "\n",
    "* 1️⃣ Linear Programming (LP)\n",
    "* 2️⃣ Quadratic Programming (QP)\n",
    "* 3️⃣ Nonlinear Programming (NLP)\n",
    "* 4️⃣ Mixed Integer Linear Programming (MILP)\n",
    "* 5️⃣ Mixed Integer Nonlinear Programming (MINLP)\n",
    "\n",
    "<img align=left width=500px src='https://apmonitor.com/me575/uploads/Main/optimize_with_python.png'>"
   ]
  },
  {
   "cell_type": "markdown",
   "id": "83c53059",
   "metadata": {},
   "source": [
    "### Install `gekko` Library\n",
    "\n",
    "First, install the necessary `gekko` library for this notebook. The solutions to the examples are with `scipy` and `gekko`. Installing packages only needs to occur once and then it is always available in that Python distribution. Jupyter notebook may require a restart of the kernel to make the library accessible for import."
   ]
  },
  {
   "cell_type": "code",
   "execution_count": null,
   "id": "c6b14c74",
   "metadata": {},
   "outputs": [],
   "source": [
    "pip install gekko"
   ]
  },
  {
   "cell_type": "markdown",
   "id": "388410ec",
   "metadata": {},
   "source": [
    "### 1️⃣ Linear Programming\n",
    "\n",
    "A company manufactures two products (`G` and `H`) and has two resources (`X` and `Y`) available.\n",
    "\n",
    "* Each unit of product `G` requires 3 units of resource `X` and 8 units of resource `Y`\n",
    "* Each unit of product `H` requires 6 units of resource `X` and 4 units of resource `Y`\n",
    "* The company has a maximum of 30 units of resource `X` and 44 units of resource `Y` available.\n",
    "* The company wants to maximize profits:\n",
    " * \\\\$100 per unit of product `G`\n",
    " * \\\\$125 per unit of product `H`\n",
    "\n",
    "Linear programming is an optimization method for solving systems of linear constraints and objectives. This problem is mathematically expressed as:\n",
    "\n",
    "Maximize $100 G + 125 H$\n",
    "\n",
    "Subject to:\n",
    "\n",
    "$3 G + 6 H <= 30$\n",
    "\n",
    "$8 G + 4 H <= 44$\n",
    "\n",
    "$G,H >= 0$\n",
    "\n",
    "where $G$ and $H$ are the number of units of products to be produced, respectively."
   ]
  },
  {
   "cell_type": "markdown",
   "id": "81e6e14e",
   "metadata": {},
   "source": [
    "#### Scipy Linear Programming\n",
    "\n",
    "The following code shows how to use linear programming to solve this problem in `scipy.optimize` with the `linprog` function. The linear programming problem is placed into the following matrix form:\n",
    "\n",
    "$\\begin{align}\\mathrm{minimize} \\quad & c\\,x \\\\ \\mathrm{subject\\;to}\\quad & A \\, x=b \\\\ & A_{ub} \\, x<b_{ub} \\end{align}$\n",
    "\n",
    "with:\n",
    "\n",
    "$x = [G,H]$\n",
    "\n",
    "$c = [-4,-6]$ with negatives to convert maximize to minimize form\n",
    "\n",
    "$A_{ub} = \\begin{bmatrix}2 & 3\\\\ 1 & 1\\end{bmatrix}$ and $b_{ub}=[100,80]$"
   ]
  },
  {
   "cell_type": "code",
   "execution_count": null,
   "id": "a26b5a92",
   "metadata": {},
   "outputs": [],
   "source": [
    "from scipy.optimize import linprog\n",
    "c = [-100, -125]\n",
    "A = [[3, 6], [8, 4]]\n",
    "b = [30, 44]\n",
    "bound = (0, None)\n",
    "res = linprog(c, A_ub=A, b_ub=b, bounds=[bound, bound], method='highs')\n",
    "\n",
    "# print solution\n",
    "print(f'Optimal solution: G = {res.x[0]:.2f}, H = {res.x[1]:.2f}')\n",
    "print(f'Maximum profit = $ {-res.fun:.2f}')"
   ]
  },
  {
   "cell_type": "markdown",
   "id": "e882113b",
   "metadata": {},
   "source": [
    "#### Gekko Linear Programming\n",
    "\n",
    "The following code shows how to use linear programming to solve this problem in `gekko`. There is additional information on solving [linear programming problems with sparse or dense matrices](https://apmonitor.com/pdc/index.php/Main/LinearProgramming) in `gekko`.\n",
    "\n",
    "<img align=left width=200px src='https://apmonitor.com/wiki/uploads/Main/gekko.png'>"
   ]
  },
  {
   "cell_type": "code",
   "execution_count": null,
   "id": "9563a20f",
   "metadata": {},
   "outputs": [],
   "source": [
    "from gekko import GEKKO\n",
    "m = GEKKO()\n",
    "G,H = m.Array(m.Var,2,lb=0)\n",
    "m.Maximize(100*G+125*H)\n",
    "m.Equation(3*G+6*H<=30)\n",
    "m.Equation(8*G+4*H<=44)\n",
    "m.solve(disp=False)\n",
    "\n",
    "# print solution\n",
    "print(f'Optimal solution: G = {G.value[0]:.2f}, H = {H.value[0]:.2f}')\n",
    "print(f'Maximum profit = $ {-m.options.objfcnval:.2f}')"
   ]
  },
  {
   "cell_type": "markdown",
   "id": "2f799657",
   "metadata": {},
   "source": [
    "#### ✅ Activity: Solve the Linear Programming (LP) Problem\n",
    "\n",
    "$\\begin{align}\\mathrm{maximize} \\quad & x+y \\\\ \\mathrm{subject\\;to}\\quad & 6x+4y\\le24 \\\\ & x+2y\\le6 \\\\ &-x+y\\le1 \\\\ & 0\\le y\\le2 \\\\ & x\\ge0 \\end{align}$\n",
    "\n",
    "Use either `gekko` or `scipy` to solve the LP and report the results for `x`, `y`, and the objective function value."
   ]
  },
  {
   "cell_type": "code",
   "execution_count": null,
   "id": "9ad638cc",
   "metadata": {},
   "outputs": [],
   "source": []
  },
  {
   "cell_type": "markdown",
   "id": "560a1234",
   "metadata": {},
   "source": [
    "Find the solution on the contour plot to graphically verify the results.\n",
    "\n",
    "<img align=left width=500px src='https://apmonitor.com/me575/uploads/Main/lp_example.png'>"
   ]
  },
  {
   "cell_type": "markdown",
   "id": "05d3b12f",
   "metadata": {},
   "source": [
    "#### LP Solution Help"
   ]
  },
  {
   "cell_type": "code",
   "execution_count": null,
   "id": "773c70f6",
   "metadata": {},
   "outputs": [],
   "source": [
    "# solve LP\n",
    "m = GEKKO(remote=False)\n",
    "x,y = m.Array(m.Var,2,lb=0)\n",
    "m.Equations([6*x+4*y<=24,x+2*y<=6,-x+y<=1,y<=2])\n",
    "m.Maximize(x+y)\n",
    "m.solve(disp=False)\n",
    "xopt = x.value[0]; yopt = y.value[0]\n",
    "print('x:', xopt,'y:', yopt,'obj:',-m.options.objfcnval)"
   ]
  },
  {
   "cell_type": "markdown",
   "id": "ac21cf00",
   "metadata": {},
   "source": [
    "#### Visualize Solution (Optional)"
   ]
  },
  {
   "cell_type": "code",
   "execution_count": null,
   "id": "43eec0b5",
   "metadata": {},
   "outputs": [],
   "source": [
    "import numpy as np\n",
    "import matplotlib.pyplot as plt\n",
    "# visualize solution\n",
    "g = np.linspace(0,5,200)\n",
    "x,y = np.meshgrid(g,g)\n",
    "obj = x+y\n",
    "plt.imshow(((6*x+4*y<=24)&(x+2*y<=6)&(-x+y<=1)&(y<=2)&(x>=0)&(y>=0)).astype(int), \n",
    "    extent=(x.min(),x.max(),y.min(),y.max()),origin='lower',cmap='Greys',alpha=0.3);\n",
    "# plot constraints\n",
    "x0 = np.linspace(0, 5, 2000)\n",
    "y0 = 6-1.5*x0   # 6*x+4*y<=24\n",
    "y1 = 3-0.5*x0   # x+2*y<=6\n",
    "y2 = 1+x0       # -x+y<=1\n",
    "y3 = (x0*0) + 2 # y <= 2\n",
    "y4 = x0*0       # x >= 0\n",
    "plt.plot(x0, y0, label=r'$6x+4y\\leq24$')\n",
    "plt.plot(x0, y1, label=r'$x+2y\\leq6$')\n",
    "plt.plot(x0, y2, label=r'$-x+y\\leq1$')\n",
    "plt.plot(x0, 2*np.ones_like(x0), label=r'$y\\leq2$')\n",
    "plt.plot(x0, y4, label=r'$x\\geq0$')\n",
    "plt.plot([0,0],[0,3], label=r'$y\\geq0$')\n",
    "xv = [0,0,1,2,3,4,0]; yv = [0,1,2,2,1.5,0,0]\n",
    "plt.plot(xv,yv,'ko--',markersize=7,linewidth=2)\n",
    "for i in range(len(xv)):\n",
    "    plt.text(xv[i]+0.1,yv[i]+0.1,f'({xv[i]},{yv[i]})')\n",
    "# objective contours\n",
    "CS = plt.contour(x,y,obj,np.arange(1,7))\n",
    "plt.clabel(CS, inline=1, fontsize=10)\n",
    "# optimal point\n",
    "plt.plot([xopt],[yopt],marker='o',color='orange',markersize=10)\n",
    "plt.xlim(0,5); plt.ylim(0,3); plt.grid(); plt.tight_layout()\n",
    "plt.legend(loc=1); plt.xlabel('x'); plt.ylabel('y')\n",
    "plt.show()"
   ]
  },
  {
   "cell_type": "markdown",
   "id": "317214ed",
   "metadata": {},
   "source": [
    "### 2️⃣ Quadratic Programming\n",
    "\n",
    "A car manufacturer wants to minimize the weight of a car while maintaining a minimum strength requirement. The weight of the car is modeled as a quadratic function of the thickness of the car frame components. The strength of the car is modeled as a linear function of the thickness of the car frame components. The manufacturer wants to minimize the weight of the car while maintaining a minimum strength requirement. This problem is formulated as:\n",
    "\n",
    "Minimize $\\frac{1}{2} x^T Q x + p x$\n",
    "\n",
    "Subject to:\n",
    "\n",
    "$G \\, x >= h$\n",
    "\n",
    "where `x` is the thickness of the car frame components, `Q` is the quadratic weight coefficient matrix, `p` is the linear weight coefficient vector, `G` is the strength coefficient matrix, and `h` is the strength constraint vector."
   ]
  },
  {
   "cell_type": "code",
   "execution_count": null,
   "id": "d3d976bb",
   "metadata": {},
   "outputs": [],
   "source": [
    "# Problem data\n",
    "# Quadratic weight coefficients\n",
    "Q = np.array([[1, 0], [0, 2]])\n",
    "# Linear weight coefficients\n",
    "p = np.array([1, 2])\n",
    "# Strength coefficients\n",
    "G = np.array([[1, 1], [1, 2], [2, 1]])\n",
    "# Strength constraints\n",
    "h = np.array([3, 4, 5])\n",
    "# Initial guess\n",
    "x0 = np.array([0, 0])"
   ]
  },
  {
   "cell_type": "markdown",
   "id": "1f63ce6e",
   "metadata": {},
   "source": [
    "#### Scipy Quadratic Programming\n",
    "\n",
    "The `minimize` function in the scipy.optimize module is a general-purpose nonlinear optimization routine that can be used to find the minimum of a scalar function of one or more variables. To use it, you need to provide the following inputs:\n",
    "\n",
    "```python\n",
    "res = minimize(objective_function, x0,\n",
    "               constraints=con,bounds=bnds,\n",
    "               method='SLSQP',options=opt)\n",
    "```\n",
    "\n",
    "1. Objective function: This should be a Python function that has decision variables as inputs and returns a scalar value to be minimized.\n",
    "2. The initial guess for the variables: This should be an array of initial guesses for the variables.\n",
    "3. Constraints with any inequality and equality bounds in residual format.\n",
    "4. Bounds: upper and lower bounds on the decision variables.\n",
    "5. Method: This is an optional parameter that specifies the optimization algorithm.\n",
    "6. Options: Configure parameters for solving the optimization problem."
   ]
  },
  {
   "cell_type": "code",
   "execution_count": null,
   "id": "899086bb",
   "metadata": {},
   "outputs": [],
   "source": [
    "from scipy.optimize import minimize\n",
    "\n",
    "# Define objective function\n",
    "def objective_function(x):\n",
    "    return 0.5 * x @ Q @ x + p @ x\n",
    "\n",
    "# Define constraints\n",
    "def constraint(x):\n",
    "    return G @ x - h\n",
    "\n",
    "# Define optimization\n",
    "con = {'type': 'ineq', 'fun': constraint} \n",
    "b = (0,10); bnds = (b,b)\n",
    "opt = {'maxiter':1000}\n",
    "res = minimize(objective_function, x0,\n",
    "               constraints=con,bounds=bnds,\n",
    "               method='SLSQP',options=opt)\n",
    "\n",
    "# print results\n",
    "print(f'Optimal solution: x = {res.x}')\n",
    "print(f'Minimum weight = {res.fun}')"
   ]
  },
  {
   "cell_type": "markdown",
   "id": "dea6c6ab",
   "metadata": {},
   "source": [
    "#### Gekko Quadratic Programming\n",
    "\n",
    "The following code shows how to use quadratic programming in `gekko`. Change to `remote=False` to solve locally instead of using the public compute server. The public server has additional solver options.\n",
    "\n",
    "<img align=left width=200px src='https://apmonitor.com/wiki/uploads/Main/gekko.png'>"
   ]
  },
  {
   "cell_type": "code",
   "execution_count": null,
   "id": "3ace7846",
   "metadata": {},
   "outputs": [],
   "source": [
    "m = GEKKO(remote=False)\n",
    "x = m.Array(m.Var,2,lb=0,ub=10)\n",
    "m.Minimize(0.5 * x@Q@x + p@x)\n",
    "gx = G@x\n",
    "m.Equations([gx[i]>=h[i] for i in range(len(h))])\n",
    "m.solve(disp=False)\n",
    "\n",
    "# print results\n",
    "print(f'Optimal solution: x = {x}')\n",
    "print(f'Minimum weight = {m.options.objfcnval}')"
   ]
  },
  {
   "cell_type": "markdown",
   "id": "d6f0f1a7",
   "metadata": {},
   "source": [
    "#### ✅ Activity: Solve the Quadratic Programming (QP) Problem\n",
    "\n",
    "$\\begin{align}\\mathrm{maximize} \\quad & \\frac{1}{2} \\left(x^2+y^2\\right) -2x+2y \\\\ \\mathrm{subject\\;to}\\quad & 6x+4y\\le24 \\\\ & x+2y\\le6 \\\\ &-x+y\\le1 \\\\ & 0\\le y\\le2 \\\\ & x\\ge0 \\end{align}$\n",
    "\n",
    "Use either `gekko` or `scipy` to solve the QP and report the results for `x`, `y`, and the objective function value."
   ]
  },
  {
   "cell_type": "code",
   "execution_count": null,
   "id": "305b81dd",
   "metadata": {},
   "outputs": [],
   "source": []
  },
  {
   "cell_type": "markdown",
   "id": "c2111807",
   "metadata": {},
   "source": [
    "#### Visualize QP Objective and Constraints"
   ]
  },
  {
   "cell_type": "code",
   "execution_count": null,
   "id": "704a5df1",
   "metadata": {},
   "outputs": [],
   "source": [
    "# visualize solution\n",
    "g = np.linspace(0,5,200)\n",
    "x,y = np.meshgrid(g,g)\n",
    "obj = 0.5*(x**2+y**2)-2*x+2*y\n",
    "plt.imshow(((6*x+4*y<=24)&(x+2*y<=6)&(-x+y<=1)&(y<=2)&(x>=0)&(y>=0)).astype(int), \n",
    "    extent=(x.min(),x.max(),y.min(),y.max()),origin='lower',cmap='Greys',alpha=0.3);\n",
    "# plot constraints\n",
    "x0 = np.linspace(0, 5, 2000)\n",
    "y0 = 6-1.5*x0   # 6*x+4*y<=24\n",
    "y1 = 3-0.5*x0   # x+2*y<=6\n",
    "y2 = 1+x0       # -x+y<=1\n",
    "y3 = (x0*0) + 2 # y <= 2\n",
    "y4 = x0*0       # x >= 0\n",
    "plt.plot(x0, y0, label=r'$6x+4y\\leq24$')\n",
    "plt.plot(x0, y1, label=r'$x+2y\\leq6$')\n",
    "plt.plot(x0, y2, label=r'$-x+y\\leq1$')\n",
    "plt.plot(x0, 2*np.ones_like(x0), label=r'$y\\leq2$')\n",
    "plt.plot(x0, y4, label=r'$x\\geq0$')\n",
    "plt.plot([0,0],[0,3], label=r'$y\\geq0$')\n",
    "xv = [0,0,1,2,3,4,0]; yv = [0,1,2,2,1.5,0,0]\n",
    "plt.plot(xv,yv,'ko--',markersize=7,linewidth=2)\n",
    "for i in range(len(xv)):\n",
    "    plt.text(xv[i]+0.1,yv[i]+0.1,f'({xv[i]},{yv[i]})')\n",
    "# objective contours\n",
    "CS = plt.contour(x,y,obj,np.arange(1,7))\n",
    "plt.clabel(CS, inline=1, fontsize=10)\n",
    "plt.xlim(0,5); plt.ylim(0,3); plt.grid(); plt.tight_layout()\n",
    "plt.legend(loc=1); plt.xlabel('x'); plt.ylabel('y')\n",
    "plt.show()"
   ]
  },
  {
   "cell_type": "markdown",
   "id": "2a2dd792",
   "metadata": {},
   "source": [
    "#### QP Solution Help"
   ]
  },
  {
   "cell_type": "code",
   "execution_count": null,
   "id": "b8f654f6",
   "metadata": {},
   "outputs": [],
   "source": [
    "# solve QP\n",
    "m = GEKKO(remote=False)\n",
    "x,y = m.Array(m.Var,2,lb=0)\n",
    "m.Equations([6*x+4*y<=24,x+2*y<=6,-x+y<=1,y<=2])\n",
    "m.Maximize(0.5*(x**2+y**2)-2*x+2*y)\n",
    "m.solve(disp=False)\n",
    "xopt = x.value[0]; yopt = y.value[0]\n",
    "print('x:', xopt,'y:', yopt,'obj:',-m.options.objfcnval)"
   ]
  },
  {
   "cell_type": "markdown",
   "id": "ace784ef",
   "metadata": {},
   "source": [
    "### 3️⃣ Nonlinear Programming\n",
    "\n",
    "A nonlinear optimization problem is the Hock Schittkowski problem 71. \n",
    "\n",
    "$\\min x_0 x_3 \\left(x_0 + x_1 + x_2\\right) + x_2$\n",
    "\n",
    "$\\mathrm{s.t.} \\quad x_0 x_1 x_2 x_3 \\ge 25$\n",
    "\n",
    "$x_0^2 + x_1^2 + x_2^2 + x_3^2 = 40$\n",
    "\n",
    "$1\\le x \\le 5$\n",
    "\n",
    "$x_{init} = (1,5,5,1)$\n",
    "\n",
    "This problem has a nonlinear objective that must be minimized. The variable values at the optimal solution are subject to (s.t.) both equality (`=40`) and inequality (`>=25`) constraints. The product of the four variables must be greater than `25` while the sum of squares of the variables must also equal `40`. In addition, all variables are constrained between `1` and `5` and the initial guess is $x_0=1$, $x_1=5$, $x_2=5$, and $x_3=1$."
   ]
  },
  {
   "cell_type": "markdown",
   "id": "cde22e52",
   "metadata": {},
   "source": [
    "#### Scipy Nonlinear Programming"
   ]
  },
  {
   "cell_type": "code",
   "execution_count": null,
   "id": "e14b7924",
   "metadata": {},
   "outputs": [],
   "source": [
    "from scipy.optimize import minimize\n",
    "\n",
    "def objective(x):\n",
    "    return x[0]*x[3]*(x[0]+x[1]+x[2])+x[2]\n",
    "\n",
    "def constraint1(x):\n",
    "    return x[0]*x[1]*x[2]*x[3]-25.0\n",
    "\n",
    "def constraint2(x):\n",
    "    sum_eq = 40.0\n",
    "    for i in range(4):\n",
    "        sum_eq = sum_eq - x[i]**2\n",
    "    return sum_eq\n",
    "\n",
    "# initial guesses\n",
    "x0 = [1,5,5,1]\n",
    "\n",
    "# optimize\n",
    "b = (1.0,5.0)\n",
    "bnds = (b, b, b, b)\n",
    "con1 = {'type': 'ineq', 'fun': constraint1} \n",
    "con2 = {'type': 'eq', 'fun': constraint2}\n",
    "cons = ([con1,con2])\n",
    "solution = minimize(objective,x0,method='SLSQP',\\\n",
    "                    bounds=bnds,constraints=cons)\n",
    "x = solution.x\n",
    "\n",
    "# print solution\n",
    "print('Objective: ' + str(objective(x)))\n",
    "print('Solution:',x)"
   ]
  },
  {
   "cell_type": "markdown",
   "id": "2cc14d23",
   "metadata": {},
   "source": [
    "#### Gekko Nonlinear Programming\n",
    "\n",
    "The following code shows how to solve nonlinear programming problems in `gekko`. All solvers in `gekko` can solve `LP`, `QP`, and `NLP` problems.\n",
    "\n",
    "<img align=left width=200px src='https://apmonitor.com/wiki/uploads/Main/gekko.png'>"
   ]
  },
  {
   "cell_type": "code",
   "execution_count": null,
   "id": "195833f4",
   "metadata": {},
   "outputs": [],
   "source": [
    "from gekko import GEKKO    \n",
    "import numpy as np\n",
    "m = GEKKO(remote=False)\n",
    "x = m.Array(m.Var,4,value=1,lb=1,ub=5)\n",
    "x1,x2,x3,x4 = x\n",
    "# change initial values\n",
    "x2.value = 5; x3.value = 5\n",
    "m.Equation(x1*x2*x3*x4>=25)\n",
    "m.Equation(x1**2+x2**2+x3**2+x4**2==40)\n",
    "m.Minimize(x1*x4*(x1+x2+x3)+x3)\n",
    "m.solve(disp=False)\n",
    "\n",
    "# print solution\n",
    "print('Objective: ',m.options.OBJFCNVAL)\n",
    "print('Solution: ', x)"
   ]
  },
  {
   "cell_type": "markdown",
   "id": "2d5399ea",
   "metadata": {},
   "source": [
    "#### ✅ Activity: Solve the Nonlinear Programming (NLP) Problem\n",
    "\n",
    "$\\begin{align}\\mathrm{minimize} \\quad & xy^2-x^2-y^2 \\\\ \\mathrm{subject\\;to}\\quad & x+y\\ge4 \\\\ & xy<=5 \\\\ & 1\\le x\\le3 \\\\ & 2\\le y\\le3 \\end{align}$\n",
    "\n",
    "Use either `gekko` or `scipy` to solve the NLP and report the results for `x`, `y`, and the objective function value."
   ]
  },
  {
   "cell_type": "code",
   "execution_count": null,
   "id": "6f948248",
   "metadata": {},
   "outputs": [],
   "source": []
  },
  {
   "cell_type": "markdown",
   "id": "c17078bb",
   "metadata": {},
   "source": [
    "#### Visualize NLP Objective and Constraints"
   ]
  },
  {
   "cell_type": "code",
   "execution_count": null,
   "id": "1cc2bea4",
   "metadata": {},
   "outputs": [],
   "source": [
    "# visualize solution\n",
    "g = np.linspace(1,3,200)\n",
    "h = np.linspace(2,3,200)\n",
    "x,y = np.meshgrid(g,h)\n",
    "obj = x*y**2-x**2-y**2\n",
    "plt.imshow(((x+y>=4)&(x*y<=5)&(x>=0)&(y>=0)).astype(int), \n",
    "    extent=(x.min(),x.max(),y.min(),y.max()),origin='lower',cmap='Greys',alpha=0.3);\n",
    "# plot constraints\n",
    "x0 = np.linspace(1,3,2000)\n",
    "\n",
    "y0 = 4-x0    # x+y>=4\n",
    "y1 = 5.0/x0  # x*y<=5\n",
    "\n",
    "plt.plot(x0,y0,':',color='orange',linewidth=2,label=r'$x+y\\geq4$')\n",
    "plt.plot(x0,y1,'k--',linewidth=2,label=r'$xy\\leq5$')\n",
    "\n",
    "plt.plot([1,1],[2,3],'b-',label=r'$x\\geq1$')\n",
    "plt.plot([3,3],[2,3],'b:',label=r'$x\\leq3$')\n",
    "plt.plot([1,3],[2,2],'k-',label=r'$y\\geq2$')\n",
    "plt.plot(x0, 3*np.ones_like(x0),'k:',label=r'$y\\leq3$')\n",
    "# objective contours\n",
    "CS = plt.contour(x,y,obj,np.round(np.linspace(0,10,21),1))\n",
    "plt.clabel(CS, inline=1, fontsize=10)\n",
    "plt.xlim(0.9,3.1); plt.ylim(1.9,3.1); plt.grid(); plt.tight_layout()\n",
    "plt.legend(loc=1); plt.xlabel('x'); plt.ylabel('y')\n",
    "plt.show()"
   ]
  },
  {
   "cell_type": "markdown",
   "id": "6a36847a",
   "metadata": {},
   "source": [
    "#### NLP Solution Help"
   ]
  },
  {
   "cell_type": "code",
   "execution_count": null,
   "id": "4117a011",
   "metadata": {},
   "outputs": [],
   "source": [
    "# solve NLP\n",
    "m = GEKKO(remote=False)\n",
    "x,y = m.Array(m.Var,2,lb=1,ub=3)\n",
    "y.LOWER=2\n",
    "m.Minimize(x*y**2-x**2-y**2)\n",
    "m.Equations([x+y>=4,x*y<=5])\n",
    "m.solve(disp=False)\n",
    "xopt = x.value[0]; yopt = y.value[0]\n",
    "print('x:', xopt,'y:', yopt,'obj:',-m.options.objfcnval)"
   ]
  },
  {
   "cell_type": "markdown",
   "id": "2da44553",
   "metadata": {},
   "source": [
    "### 4️⃣ Mixed Integer Linear Programming\n",
    "\n",
    "Mixed integer linear programming (MILP) is a type of optimization problem that involves both continuous and discrete (integer) variables. In contrast, regular linear programming (LP) only involves continuous variables. The presence of integer variables in MIP makes the problem more difficult to solve, as the solution space is now discrete rather than continuous. This means that many of the techniques used for solving LP problems are not applicable to MIP. Specialized algorithms and solvers, such as branch-and-bound and branch-and-cut, are typically used to solve MIP problems."
   ]
  },
  {
   "cell_type": "markdown",
   "id": "2a65de06",
   "metadata": {},
   "source": [
    "#### Scipy Mixed Integer Linear Programming\n",
    "\n",
    "Use the `integrality` option in the `linprog` function to specify:\n",
    "\n",
    "* 0: continuous\n",
    "* 1: integer"
   ]
  },
  {
   "cell_type": "code",
   "execution_count": null,
   "id": "ecac18b1",
   "metadata": {},
   "outputs": [],
   "source": [
    "from scipy.optimize import linprog\n",
    "\n",
    "# Define the objective function\n",
    "c = [-1, 4] # minimize -x + 4y\n",
    "\n",
    "# Define the constraints\n",
    "A_u = np.array([[3, 2], [1, 5]])\n",
    "b_u = np.array([10,10])\n",
    "\n",
    "# Define the bounds\n",
    "b = (0, 10) # 0 <= x <= 10\n",
    "\n",
    "# Solve\n",
    "res = linprog(c, A_ub=A_u, b_ub=b_u, bounds=(b,b),\n",
    "              integrality=[1,1])\n",
    "\n",
    "# Print the results\n",
    "print(\"Objective function: \", res.fun)\n",
    "print(\"Optimal solution: \", res.x)"
   ]
  },
  {
   "cell_type": "markdown",
   "id": "27de78df",
   "metadata": {},
   "source": [
    "#### Gekko Mixed Integer Linear Programming\n",
    "\n",
    "The following code shows how to solve mixed integer linear programming problems. Use `integer=True` to specify an integer variable. The solver `APOPT` is a mixed integer solver in `gekko` that is selected with `m.options.SOLVER=1`. \n",
    "\n",
    "<img align=left width=200px src='https://apmonitor.com/wiki/uploads/Main/gekko.png'>"
   ]
  },
  {
   "cell_type": "code",
   "execution_count": null,
   "id": "51ca0905",
   "metadata": {},
   "outputs": [],
   "source": [
    "m = GEKKO(remote=False)\n",
    "x = m.Array(m.Var,2,lb=0,ub=10,integer=True)\n",
    "m.Minimize(c@x)\n",
    "Ax = A_u@x\n",
    "m.Equations([Ax[i]<=b_u[i] for i in range(len(b_u))])\n",
    "m.options.SOLVER=1\n",
    "m.solve(disp=False)\n",
    "\n",
    "# Print the results\n",
    "print(\"Objective function: \", m.options.objfcnval)\n",
    "print(\"Optimal solution: \", x)"
   ]
  },
  {
   "cell_type": "markdown",
   "id": "b1d1da20",
   "metadata": {},
   "source": [
    "#### ✅ Activity: Solve the Mixed Integer Linear Programming (MILP) Problem\n",
    "\n",
    "$\\begin{align}\\mathrm{maximize} \\quad & x+y \\\\ \\mathrm{subject\\;to}\\quad & 6x+4y\\le24 \\\\ & x+2y\\le6 \\\\ &-x+y\\le1 \\\\ & 0\\le y\\le2 \\\\ & x\\ge0 \\end{align}$\n",
    "\n",
    "where `x` and `y` are integer values. Use either `gekko` or `scipy` to solve the MILP and report the results for `x`, `y`, and the objective function value."
   ]
  },
  {
   "cell_type": "code",
   "execution_count": null,
   "id": "010ad548",
   "metadata": {},
   "outputs": [],
   "source": []
  },
  {
   "cell_type": "markdown",
   "id": "0bfc179a",
   "metadata": {},
   "source": [
    "There are 3 potential solutions. Find the integer solutions on the contour plot to graphically verify the results.\n",
    "\n",
    "<img align=left width=500px src='https://apmonitor.com/me575/uploads/Main/lp_example.png'>"
   ]
  },
  {
   "cell_type": "markdown",
   "id": "c4b8761c",
   "metadata": {},
   "source": [
    "#### MILP Solution Help"
   ]
  },
  {
   "cell_type": "code",
   "execution_count": null,
   "id": "b83c420b",
   "metadata": {},
   "outputs": [],
   "source": [
    "# solve MILP\n",
    "m = GEKKO(remote=False)\n",
    "x,y = m.Array(m.Var,2,lb=0,integer=True)\n",
    "m.Equations([6*x+4*y<=24,x+2*y<=6,-x+y<=1,y<=2])\n",
    "m.Maximize(x+y)\n",
    "m.options.SOLVER=1\n",
    "m.solve(disp=False)\n",
    "xopt = x.value[0]; yopt = y.value[0]\n",
    "print('x:', xopt,'y:', yopt,'obj:',-m.options.objfcnval)"
   ]
  },
  {
   "cell_type": "markdown",
   "id": "764a5e08",
   "metadata": {},
   "source": [
    "### 5️⃣ Mixed Integer Nonlinear Programming\n",
    "\n",
    "Mixed integer nonlinear programming (MINLP) is like MILP but may have a nonlinear objective and constraints. It also requires specialized solvers such as the `APOPT` solver in `gekko`. There is no current MINLP solver for `scipy`, but that is likely changing in a future release."
   ]
  },
  {
   "cell_type": "code",
   "execution_count": null,
   "id": "f997918b",
   "metadata": {},
   "outputs": [],
   "source": [
    "from gekko import GEKKO\n",
    "m = GEKKO() # create GEKKO model\n",
    "# create integer variables\n",
    "x1 = m.Var(integer=True,lb=-5,ub=10) \n",
    "x2 = m.Var(integer=True,lb=-1,ub=2)\n",
    "# create continuous variable\n",
    "x3 = m.Var(lb=0)\n",
    "m.Minimize(4*x1**2-4*x2*x1**2+x2**2+x1**2-x1+x3**2)\n",
    "m.Equation(x3*x2>=1)\n",
    "m.options.SOLVER = 1 # APOPT solver\n",
    "m.solve(disp=False)\n",
    "print('x1: ' + str(x1.value[0]))\n",
    "print('x2: ' + str(x2.value[0]))\n",
    "print('x3: ' + str(x3.value[0]))"
   ]
  },
  {
   "cell_type": "markdown",
   "id": "1e86e228",
   "metadata": {},
   "source": [
    "In addition to binary `(0,1)` and integer variables, Special Ordered Sets are also possible to define from a selection of discrete options such as `[0.5, 1.15, 2.6, 5.2]`."
   ]
  },
  {
   "cell_type": "code",
   "execution_count": null,
   "id": "d68c6d73",
   "metadata": {},
   "outputs": [],
   "source": [
    "from gekko import GEKKO\n",
    "m = GEKKO() # create GEKKO model\n",
    "# integer variable\n",
    "x1 = m.Var(integer=True,lb=-5,ub=10) \n",
    "# create Special Ordered Set variable\n",
    "x2 = m.sos1([0.5, 1.15, 2.6, 5.2])\n",
    "# continuous variable\n",
    "x3 = m.Var(lb=0)\n",
    "m.Minimize(4*x1**2-4*x2*x1**2+x2**2+x1**2-x1+x3**2)\n",
    "m.Equation(x3*x2>=1)\n",
    "m.options.SOLVER = 1 # APOPT solver\n",
    "m.solve(disp=False)\n",
    "print('x1: ' + str(x1.value[0]))\n",
    "print('x2: ' + str(x2.value[0]))\n",
    "print('x3: ' + str(x3.value[0]))"
   ]
  },
  {
   "cell_type": "markdown",
   "id": "a50215b5",
   "metadata": {},
   "source": [
    "#### ✅ Activity: Solve a Mixed Integer Nonlinear Programming (MINLP) Problem\n",
    "\n",
    "A piece of letter paper 8.5x11 inches is made into an open-top box by first removing the corners and then by folding the sides up to the adjacent side. The starting sheet has height and width. The objective is to maximize the volume of the box (no lid) by choosing an appropriate value of x (the height of the box).\n",
    "\n",
    "* Print a [Box Folding Template (PDF)](https://apmonitor.com/pdc/uploads/Main/box_foldering.pdf)\n",
    "* Additional information on paper box folding with [solution help](https://apmonitor.com/pdc/index.php/Main/QuizSchedulingControl).\n",
    "\n",
    "<img src='https://apmonitor.com/me575/uploads/Main/paper_folding.png' align=left width=500px>"
   ]
  },
  {
   "cell_type": "markdown",
   "id": "6aa92c1d",
   "metadata": {},
   "source": [
    "Starting with the continuous solution, restrict the height to inch values in integer increments. Below is the continuous solution:"
   ]
  },
  {
   "cell_type": "code",
   "execution_count": null,
   "id": "c65cadb8",
   "metadata": {},
   "outputs": [],
   "source": [
    "from gekko import GEKKO\n",
    "m = GEKKO(remote=False)\n",
    "paper_width = 8.5     # width of paper\n",
    "paper_length = 11     # length of paper\n",
    "x = m.Var(lb=0)       # cut out length\n",
    "box_width  = m.Intermediate(paper_width - 2 * x)\n",
    "box_length = m.Intermediate(paper_length - 2 * x)\n",
    "box_height = m.Intermediate(x)\n",
    "Volume = m.Intermediate(box_width * box_length * box_height)\n",
    "# lower constraint for box width with tabs\n",
    "m.Equations([box_width > 0,box_length > 0,Volume > 0.01])\n",
    "m.Maximize(Volume)\n",
    "m.options.SOLVER=1\n",
    "m.solve(disp=False)\n",
    "print('width = ' + str(box_width.value[0]))\n",
    "print('length = ' + str(box_length.value[0]))\n",
    "print('height = ' + str(box_height.value[0]))\n",
    "print('volume = ' + str(Volume.value[0]))"
   ]
  },
  {
   "cell_type": "markdown",
   "id": "8c10d3ab",
   "metadata": {},
   "source": [
    "Calculate how much the integer solution requirement decreases the volume."
   ]
  },
  {
   "cell_type": "code",
   "execution_count": null,
   "id": "caac7a81",
   "metadata": {},
   "outputs": [],
   "source": []
  }
 ],
 "metadata": {
  "kernelspec": {
   "display_name": "Python 3",
   "language": "python",
   "name": "python3"
  },
  "language_info": {
   "codemirror_mode": {
    "name": "ipython",
    "version": 3
   },
   "file_extension": ".py",
   "mimetype": "text/x-python",
   "name": "python",
   "nbconvert_exporter": "python",
   "pygments_lexer": "ipython3",
   "version": "3.8.10"
  }
 },
 "nbformat": 4,
 "nbformat_minor": 5
}
